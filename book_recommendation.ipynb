{
 "cells": [
  {
   "cell_type": "markdown",
   "metadata": {},
   "source": [
    "# NOTES\n",
    "\n",
    " - collaborative recommendation - based on past interactions\n",
    " - when deploying the app\n",
    "     - i need to log the interactions to optimeize the recommendations\n",
    "     - text scraping from somewhere\n",
    "     - build a databasee to map normalized book name to row in table for faster search"
   ]
  },
  {
   "cell_type": "markdown",
   "metadata": {},
   "source": [
    "# Problem Introduction\n",
    "\n",
    "Our task is to build a model, which is suitable for recommending books based on user reviews from open BX dataset.\n",
    "\n",
    "TL;DR If there are users with similar taste in books, we want to recommend them the respective part of symmetric difference of books they liked\n",
    "\n",
    "So lets tackle this problem using `numpy`, `pandas` and `sklearn`"
   ]
  },
  {
   "cell_type": "code",
   "execution_count": 29,
   "metadata": {},
   "outputs": [],
   "source": [
    "import numpy as np\n",
    "import pandas as pd\n",
    "import seaborn as sns"
   ]
  },
  {
   "cell_type": "markdown",
   "metadata": {},
   "source": [
    "# Exploratory Data Analysis"
   ]
  },
  {
   "cell_type": "code",
   "execution_count": 30,
   "metadata": {},
   "outputs": [],
   "source": [
    "# input is encoded in latin-1 and there are come corrupted values\n",
    "# as there is not many of those values, I decided to just skip them\n",
    "\n",
    "books_df = pd.read_csv( \"data/BX-Books.csv\", encoding=\"latin-1\", sep=\";\", on_bad_lines=\"skip\", low_memory=False )\n",
    "ratings_df = pd.read_csv( \"data/BX-Book-Ratings.csv\", encoding=\"latin-1\", sep=\";\", on_bad_lines=\"skip\" )\n",
    "users_df = pd.read_csv( \"data/BX-Users.csv\", encoding=\"latin-1\", sep=\";\", on_bad_lines=\"skip\" )"
   ]
  },
  {
   "cell_type": "code",
   "execution_count": 45,
   "metadata": {},
   "outputs": [
    {
     "name": "stdout",
     "output_type": "stream",
     "text": [
      "<class 'pandas.core.frame.DataFrame'>\n",
      "RangeIndex: 271360 entries, 0 to 271359\n",
      "Data columns (total 5 columns):\n",
      " #   Column               Non-Null Count   Dtype \n",
      "---  ------               --------------   ----- \n",
      " 0   ISBN                 271360 non-null  object\n",
      " 1   Book-Title           271360 non-null  object\n",
      " 2   Book-Author          271359 non-null  object\n",
      " 3   Year-Of-Publication  271360 non-null  object\n",
      " 4   Publisher            271358 non-null  object\n",
      "dtypes: object(5)\n",
      "memory usage: 10.4+ MB\n"
     ]
    }
   ],
   "source": [
    "# delete '#' to see relevant part\n",
    "# books_df.head()\n",
    "# books_df.describe()\n",
    "books_df.info()"
   ]
  },
  {
   "cell_type": "markdown",
   "metadata": {},
   "source": [
    "As can be seen, there are some redundant columns which we do not want to consider when deciding what book to recommend, so lets get rid of them"
   ]
  },
  {
   "cell_type": "code",
   "execution_count": 32,
   "metadata": {},
   "outputs": [],
   "source": [
    "books_df.drop( columns=[ \"Image-URL-S\", \"Image-URL-M\", \"Image-URL-L\" ], inplace=True )"
   ]
  },
  {
   "cell_type": "code",
   "execution_count": 33,
   "metadata": {},
   "outputs": [
    {
     "data": {
      "text/html": [
       "<div>\n",
       "<style scoped>\n",
       "    .dataframe tbody tr th:only-of-type {\n",
       "        vertical-align: middle;\n",
       "    }\n",
       "\n",
       "    .dataframe tbody tr th {\n",
       "        vertical-align: top;\n",
       "    }\n",
       "\n",
       "    .dataframe thead th {\n",
       "        text-align: right;\n",
       "    }\n",
       "</style>\n",
       "<table border=\"1\" class=\"dataframe\">\n",
       "  <thead>\n",
       "    <tr style=\"text-align: right;\">\n",
       "      <th></th>\n",
       "      <th>User-ID</th>\n",
       "      <th>Location</th>\n",
       "      <th>Age</th>\n",
       "    </tr>\n",
       "  </thead>\n",
       "  <tbody>\n",
       "    <tr>\n",
       "      <th>0</th>\n",
       "      <td>1</td>\n",
       "      <td>nyc, new york, usa</td>\n",
       "      <td>NaN</td>\n",
       "    </tr>\n",
       "    <tr>\n",
       "      <th>1</th>\n",
       "      <td>2</td>\n",
       "      <td>stockton, california, usa</td>\n",
       "      <td>18.0</td>\n",
       "    </tr>\n",
       "    <tr>\n",
       "      <th>2</th>\n",
       "      <td>3</td>\n",
       "      <td>moscow, yukon territory, russia</td>\n",
       "      <td>NaN</td>\n",
       "    </tr>\n",
       "    <tr>\n",
       "      <th>3</th>\n",
       "      <td>4</td>\n",
       "      <td>porto, v.n.gaia, portugal</td>\n",
       "      <td>17.0</td>\n",
       "    </tr>\n",
       "    <tr>\n",
       "      <th>4</th>\n",
       "      <td>5</td>\n",
       "      <td>farnborough, hants, united kingdom</td>\n",
       "      <td>NaN</td>\n",
       "    </tr>\n",
       "  </tbody>\n",
       "</table>\n",
       "</div>"
      ],
      "text/plain": [
       "   User-ID                            Location   Age\n",
       "0        1                  nyc, new york, usa   NaN\n",
       "1        2           stockton, california, usa  18.0\n",
       "2        3     moscow, yukon territory, russia   NaN\n",
       "3        4           porto, v.n.gaia, portugal  17.0\n",
       "4        5  farnborough, hants, united kingdom   NaN"
      ]
     },
     "execution_count": 33,
     "metadata": {},
     "output_type": "execute_result"
    }
   ],
   "source": [
    "users_df.head()\n",
    "# users_df.describe()\n",
    "# users_df.info()"
   ]
  },
  {
   "cell_type": "code",
   "execution_count": 34,
   "metadata": {},
   "outputs": [
    {
     "data": {
      "text/html": [
       "<div>\n",
       "<style scoped>\n",
       "    .dataframe tbody tr th:only-of-type {\n",
       "        vertical-align: middle;\n",
       "    }\n",
       "\n",
       "    .dataframe tbody tr th {\n",
       "        vertical-align: top;\n",
       "    }\n",
       "\n",
       "    .dataframe thead th {\n",
       "        text-align: right;\n",
       "    }\n",
       "</style>\n",
       "<table border=\"1\" class=\"dataframe\">\n",
       "  <thead>\n",
       "    <tr style=\"text-align: right;\">\n",
       "      <th></th>\n",
       "      <th>User-ID</th>\n",
       "      <th>ISBN</th>\n",
       "      <th>Book-Rating</th>\n",
       "    </tr>\n",
       "  </thead>\n",
       "  <tbody>\n",
       "    <tr>\n",
       "      <th>0</th>\n",
       "      <td>276725</td>\n",
       "      <td>034545104X</td>\n",
       "      <td>0</td>\n",
       "    </tr>\n",
       "    <tr>\n",
       "      <th>1</th>\n",
       "      <td>276726</td>\n",
       "      <td>0155061224</td>\n",
       "      <td>5</td>\n",
       "    </tr>\n",
       "    <tr>\n",
       "      <th>2</th>\n",
       "      <td>276727</td>\n",
       "      <td>0446520802</td>\n",
       "      <td>0</td>\n",
       "    </tr>\n",
       "    <tr>\n",
       "      <th>3</th>\n",
       "      <td>276729</td>\n",
       "      <td>052165615X</td>\n",
       "      <td>3</td>\n",
       "    </tr>\n",
       "    <tr>\n",
       "      <th>4</th>\n",
       "      <td>276729</td>\n",
       "      <td>0521795028</td>\n",
       "      <td>6</td>\n",
       "    </tr>\n",
       "  </tbody>\n",
       "</table>\n",
       "</div>"
      ],
      "text/plain": [
       "   User-ID        ISBN  Book-Rating\n",
       "0   276725  034545104X            0\n",
       "1   276726  0155061224            5\n",
       "2   276727  0446520802            0\n",
       "3   276729  052165615X            3\n",
       "4   276729  0521795028            6"
      ]
     },
     "execution_count": 34,
     "metadata": {},
     "output_type": "execute_result"
    }
   ],
   "source": [
    "ratings_df.head()\n",
    "# ratings_df.describe()\n",
    "# ratings_df.info()"
   ]
  },
  {
   "cell_type": "markdown",
   "metadata": {},
   "source": [
    "Lets see what are we working with. Speaking in language of DB's, we have three tables which we have to somewhat merge together. Luckily for us, `pd` offers some methods we can work with."
   ]
  },
  {
   "cell_type": "markdown",
   "metadata": {},
   "source": [
    "Lets merge `books_df` and `ratings_df` on `ISBN`"
   ]
  },
  {
   "cell_type": "code",
   "execution_count": 36,
   "metadata": {},
   "outputs": [
    {
     "name": "stdout",
     "output_type": "stream",
     "text": [
      "<class 'pandas.core.frame.DataFrame'>\n",
      "Int64Index: 1031136 entries, 0 to 1031135\n",
      "Data columns (total 7 columns):\n",
      " #   Column               Non-Null Count    Dtype \n",
      "---  ------               --------------    ----- \n",
      " 0   ISBN                 1031136 non-null  object\n",
      " 1   Book-Title           1031136 non-null  object\n",
      " 2   Book-Author          1031135 non-null  object\n",
      " 3   Year-Of-Publication  1031136 non-null  object\n",
      " 4   Publisher            1031134 non-null  object\n",
      " 5   User-ID              1031136 non-null  int64 \n",
      " 6   Book-Rating          1031136 non-null  int64 \n",
      "dtypes: int64(2), object(5)\n",
      "memory usage: 62.9+ MB\n"
     ]
    }
   ],
   "source": [
    "books_with_ratings_df = books_df.merge( ratings_df, on=\"ISBN\" )\n",
    "books_with_ratings_df.info()"
   ]
  },
  {
   "cell_type": "code",
   "execution_count": 37,
   "metadata": {},
   "outputs": [
    {
     "data": {
      "text/html": [
       "<div>\n",
       "<style scoped>\n",
       "    .dataframe tbody tr th:only-of-type {\n",
       "        vertical-align: middle;\n",
       "    }\n",
       "\n",
       "    .dataframe tbody tr th {\n",
       "        vertical-align: top;\n",
       "    }\n",
       "\n",
       "    .dataframe thead th {\n",
       "        text-align: right;\n",
       "    }\n",
       "</style>\n",
       "<table border=\"1\" class=\"dataframe\">\n",
       "  <thead>\n",
       "    <tr style=\"text-align: right;\">\n",
       "      <th></th>\n",
       "      <th>ISBN</th>\n",
       "      <th>Book-Title</th>\n",
       "      <th>Book-Author</th>\n",
       "      <th>Year-Of-Publication</th>\n",
       "      <th>Publisher</th>\n",
       "      <th>User-ID</th>\n",
       "      <th>Book-Rating</th>\n",
       "    </tr>\n",
       "  </thead>\n",
       "  <tbody>\n",
       "    <tr>\n",
       "      <th>0</th>\n",
       "      <td>0195153448</td>\n",
       "      <td>Classical Mythology</td>\n",
       "      <td>Mark P. O. Morford</td>\n",
       "      <td>2002</td>\n",
       "      <td>Oxford University Press</td>\n",
       "      <td>2</td>\n",
       "      <td>0</td>\n",
       "    </tr>\n",
       "    <tr>\n",
       "      <th>1</th>\n",
       "      <td>0002005018</td>\n",
       "      <td>Clara Callan</td>\n",
       "      <td>Richard Bruce Wright</td>\n",
       "      <td>2001</td>\n",
       "      <td>HarperFlamingo Canada</td>\n",
       "      <td>8</td>\n",
       "      <td>5</td>\n",
       "    </tr>\n",
       "    <tr>\n",
       "      <th>2</th>\n",
       "      <td>0002005018</td>\n",
       "      <td>Clara Callan</td>\n",
       "      <td>Richard Bruce Wright</td>\n",
       "      <td>2001</td>\n",
       "      <td>HarperFlamingo Canada</td>\n",
       "      <td>11400</td>\n",
       "      <td>0</td>\n",
       "    </tr>\n",
       "    <tr>\n",
       "      <th>3</th>\n",
       "      <td>0002005018</td>\n",
       "      <td>Clara Callan</td>\n",
       "      <td>Richard Bruce Wright</td>\n",
       "      <td>2001</td>\n",
       "      <td>HarperFlamingo Canada</td>\n",
       "      <td>11676</td>\n",
       "      <td>8</td>\n",
       "    </tr>\n",
       "    <tr>\n",
       "      <th>4</th>\n",
       "      <td>0002005018</td>\n",
       "      <td>Clara Callan</td>\n",
       "      <td>Richard Bruce Wright</td>\n",
       "      <td>2001</td>\n",
       "      <td>HarperFlamingo Canada</td>\n",
       "      <td>41385</td>\n",
       "      <td>0</td>\n",
       "    </tr>\n",
       "  </tbody>\n",
       "</table>\n",
       "</div>"
      ],
      "text/plain": [
       "         ISBN           Book-Title           Book-Author Year-Of-Publication  \\\n",
       "0  0195153448  Classical Mythology    Mark P. O. Morford                2002   \n",
       "1  0002005018         Clara Callan  Richard Bruce Wright                2001   \n",
       "2  0002005018         Clara Callan  Richard Bruce Wright                2001   \n",
       "3  0002005018         Clara Callan  Richard Bruce Wright                2001   \n",
       "4  0002005018         Clara Callan  Richard Bruce Wright                2001   \n",
       "\n",
       "                 Publisher  User-ID  Book-Rating  \n",
       "0  Oxford University Press        2            0  \n",
       "1    HarperFlamingo Canada        8            5  \n",
       "2    HarperFlamingo Canada    11400            0  \n",
       "3    HarperFlamingo Canada    11676            8  \n",
       "4    HarperFlamingo Canada    41385            0  "
      ]
     },
     "execution_count": 37,
     "metadata": {},
     "output_type": "execute_result"
    }
   ],
   "source": [
    "books_with_ratings_df.head()"
   ]
  },
  {
   "cell_type": "markdown",
   "metadata": {},
   "source": [
    "We are left with table of books, which has entry for every review created. This is quite terrible, because we have not inspected the reviews yet and chosen the relevant one"
   ]
  },
  {
   "cell_type": "markdown",
   "metadata": {},
   "source": [
    "For example, we _do not_ want to include reviews from users, who have too less, or too much reviews. Similarily, we do not want to recommend books, for which we do not have solid foundation of reviews from different users."
   ]
  },
  {
   "cell_type": "code",
   "execution_count": 38,
   "metadata": {},
   "outputs": [
    {
     "data": {
      "text/plain": [
       "11676     13602\n",
       "198711     7550\n",
       "153662     6109\n",
       "98391      5891\n",
       "35859      5850\n",
       "Name: User-ID, dtype: int64"
      ]
     },
     "execution_count": 38,
     "metadata": {},
     "output_type": "execute_result"
    }
   ],
   "source": [
    "user_rating_counts = ratings_df[ \"User-ID\" ].value_counts()\n",
    "user_rating_counts.head()"
   ]
  },
  {
   "cell_type": "markdown",
   "metadata": {},
   "source": [
    "As can be seen, we have 105283 unique users who have left a review. Now we want to find some threshold when the user becomes relevant based on how much reviews he have left."
   ]
  },
  {
   "cell_type": "code",
   "execution_count": 11,
   "metadata": {},
   "outputs": [
    {
     "name": "stdout",
     "output_type": "stream",
     "text": [
      "0.25 quantile: 1.0\n",
      "0.5 quantile: 1.0\n",
      "0.75 quantile: 4.0\n"
     ]
    }
   ],
   "source": [
    "print( f\"0.25 quantile: {user_rating_counts.quantile( q=0.25 )}\" )\n",
    "print( f\"0.5 quantile: {user_rating_counts.quantile( q=0.5 )}\" )\n",
    "print( f\"0.75 quantile: {user_rating_counts.quantile( q=0.75 )}\")"
   ]
  },
  {
   "cell_type": "markdown",
   "metadata": {},
   "source": [
    "Observation is, that 75% or our users have left less than 4 reviews. This is kinda sad, but not that surprising - data are scraped from amazon, there are probably not that much bookworms who buy their precious books from Amazon :)"
   ]
  },
  {
   "cell_type": "markdown",
   "metadata": {},
   "source": [
    "Lets say that we consider person a relevant reviewer if he has more than 20 reviews. The large values also seems suspicious, I would say they are caused by bots, therefore we gonna drop them as well. We are left with around 7000 reviewers."
   ]
  },
  {
   "cell_type": "code",
   "execution_count": 12,
   "metadata": {},
   "outputs": [
    {
     "data": {
      "text/plain": [
       "29855     498\n",
       "2276      498\n",
       "179978    497\n",
       "277427    497\n",
       "221445    493\n",
       "Name: User-ID, dtype: int64"
      ]
     },
     "execution_count": 12,
     "metadata": {},
     "output_type": "execute_result"
    }
   ],
   "source": [
    "relevant_user_rating_counts = user_rating_counts[ ( 20 <= user_rating_counts ) & ( user_rating_counts <= 500 ) ]\n",
    "relevant_user_rating_counts.head()"
   ]
  },
  {
   "cell_type": "code",
   "execution_count": 39,
   "metadata": {},
   "outputs": [],
   "source": [
    "user_ids = relevant_user_rating_counts.index\n",
    "relevant_ratings_df = ratings_df[ ratings_df[ \"User-ID\" ].isin( user_ids ) ]"
   ]
  },
  {
   "cell_type": "code",
   "execution_count": 40,
   "metadata": {},
   "outputs": [
    {
     "data": {
      "text/html": [
       "<div>\n",
       "<style scoped>\n",
       "    .dataframe tbody tr th:only-of-type {\n",
       "        vertical-align: middle;\n",
       "    }\n",
       "\n",
       "    .dataframe tbody tr th {\n",
       "        vertical-align: top;\n",
       "    }\n",
       "\n",
       "    .dataframe thead th {\n",
       "        text-align: right;\n",
       "    }\n",
       "</style>\n",
       "<table border=\"1\" class=\"dataframe\">\n",
       "  <thead>\n",
       "    <tr style=\"text-align: right;\">\n",
       "      <th></th>\n",
       "      <th>User-ID</th>\n",
       "      <th>ISBN</th>\n",
       "      <th>Book-Rating</th>\n",
       "      <th>Book-Title</th>\n",
       "      <th>Book-Author</th>\n",
       "      <th>Year-Of-Publication</th>\n",
       "      <th>Publisher</th>\n",
       "    </tr>\n",
       "  </thead>\n",
       "  <tbody>\n",
       "    <tr>\n",
       "      <th>0</th>\n",
       "      <td>276762</td>\n",
       "      <td>034544003X</td>\n",
       "      <td>0</td>\n",
       "      <td>Southampton Row (Charlotte &amp;amp; Thomas Pitt N...</td>\n",
       "      <td>Anne Perry</td>\n",
       "      <td>2002</td>\n",
       "      <td>Ballantine Books</td>\n",
       "    </tr>\n",
       "    <tr>\n",
       "      <th>1</th>\n",
       "      <td>134797</td>\n",
       "      <td>034544003X</td>\n",
       "      <td>0</td>\n",
       "      <td>Southampton Row (Charlotte &amp;amp; Thomas Pitt N...</td>\n",
       "      <td>Anne Perry</td>\n",
       "      <td>2002</td>\n",
       "      <td>Ballantine Books</td>\n",
       "    </tr>\n",
       "    <tr>\n",
       "      <th>2</th>\n",
       "      <td>146345</td>\n",
       "      <td>034544003X</td>\n",
       "      <td>8</td>\n",
       "      <td>Southampton Row (Charlotte &amp;amp; Thomas Pitt N...</td>\n",
       "      <td>Anne Perry</td>\n",
       "      <td>2002</td>\n",
       "      <td>Ballantine Books</td>\n",
       "    </tr>\n",
       "    <tr>\n",
       "      <th>3</th>\n",
       "      <td>155173</td>\n",
       "      <td>034544003X</td>\n",
       "      <td>0</td>\n",
       "      <td>Southampton Row (Charlotte &amp;amp; Thomas Pitt N...</td>\n",
       "      <td>Anne Perry</td>\n",
       "      <td>2002</td>\n",
       "      <td>Ballantine Books</td>\n",
       "    </tr>\n",
       "    <tr>\n",
       "      <th>4</th>\n",
       "      <td>177113</td>\n",
       "      <td>034544003X</td>\n",
       "      <td>0</td>\n",
       "      <td>Southampton Row (Charlotte &amp;amp; Thomas Pitt N...</td>\n",
       "      <td>Anne Perry</td>\n",
       "      <td>2002</td>\n",
       "      <td>Ballantine Books</td>\n",
       "    </tr>\n",
       "  </tbody>\n",
       "</table>\n",
       "</div>"
      ],
      "text/plain": [
       "   User-ID        ISBN  Book-Rating  \\\n",
       "0   276762  034544003X            0   \n",
       "1   134797  034544003X            0   \n",
       "2   146345  034544003X            8   \n",
       "3   155173  034544003X            0   \n",
       "4   177113  034544003X            0   \n",
       "\n",
       "                                          Book-Title Book-Author  \\\n",
       "0  Southampton Row (Charlotte &amp; Thomas Pitt N...  Anne Perry   \n",
       "1  Southampton Row (Charlotte &amp; Thomas Pitt N...  Anne Perry   \n",
       "2  Southampton Row (Charlotte &amp; Thomas Pitt N...  Anne Perry   \n",
       "3  Southampton Row (Charlotte &amp; Thomas Pitt N...  Anne Perry   \n",
       "4  Southampton Row (Charlotte &amp; Thomas Pitt N...  Anne Perry   \n",
       "\n",
       "  Year-Of-Publication         Publisher  \n",
       "0                2002  Ballantine Books  \n",
       "1                2002  Ballantine Books  \n",
       "2                2002  Ballantine Books  \n",
       "3                2002  Ballantine Books  \n",
       "4                2002  Ballantine Books  "
      ]
     },
     "execution_count": 40,
     "metadata": {},
     "output_type": "execute_result"
    }
   ],
   "source": [
    "relevant_rating_with_books_df = relevant_ratings_df.merge( books_df, on=\"ISBN\" )\n",
    "relevant_rating_with_books_df.head()"
   ]
  },
  {
   "cell_type": "markdown",
   "metadata": {},
   "source": [
    "In this dataset, we have all the so-called _relevant_ reviews with books. However, even though we cleaned the user reviews, we do not know anything about the cumulative reviews for each book. Some of them have too little reviews for us to be able to generalize well, so we will just drop them"
   ]
  },
  {
   "cell_type": "code",
   "execution_count": 48,
   "metadata": {},
   "outputs": [
    {
     "name": "stdout",
     "output_type": "stream",
     "text": [
      "<class 'pandas.core.series.Series'>\n",
      "Index: 2962 entries, 000649840X to 8433925180\n",
      "Series name: Book-Rating\n",
      "Non-Null Count  Dtype\n",
      "--------------  -----\n",
      "2962 non-null   int64\n",
      "dtypes: int64(1)\n",
      "memory usage: 46.3+ KB\n"
     ]
    }
   ],
   "source": [
    "book_absolute_ratings = relevant_rating_with_books_df.groupby( \"ISBN\" )[ \"Book-Rating\" ].count()\n",
    "# book_absolute_ratings = relevant_rating_with_books_df.groupby( \"ISBN\" )[ \"ISBN\" ].count() #.reset_index()\n",
    "# book_absolute_ratings.head()\n",
    "\n",
    "# serie which contains relevant ISBN-s\n",
    "relevant_book_absolute_ratings_s = book_absolute_ratings[ book_absolute_ratings >= 20 ]\n",
    "relevant_book_absolute_ratings_s.info()"
   ]
  },
  {
   "cell_type": "code",
   "execution_count": 49,
   "metadata": {},
   "outputs": [
    {
     "data": {
      "text/html": [
       "<div>\n",
       "<style scoped>\n",
       "    .dataframe tbody tr th:only-of-type {\n",
       "        vertical-align: middle;\n",
       "    }\n",
       "\n",
       "    .dataframe tbody tr th {\n",
       "        vertical-align: top;\n",
       "    }\n",
       "\n",
       "    .dataframe thead th {\n",
       "        text-align: right;\n",
       "    }\n",
       "</style>\n",
       "<table border=\"1\" class=\"dataframe\">\n",
       "  <thead>\n",
       "    <tr style=\"text-align: right;\">\n",
       "      <th></th>\n",
       "      <th>User-ID</th>\n",
       "      <th>ISBN</th>\n",
       "      <th>Book-Rating</th>\n",
       "      <th>Book-Title</th>\n",
       "      <th>Book-Author</th>\n",
       "      <th>Year-Of-Publication</th>\n",
       "      <th>Publisher</th>\n",
       "    </tr>\n",
       "  </thead>\n",
       "  <tbody>\n",
       "    <tr>\n",
       "      <th>7</th>\n",
       "      <td>276762</td>\n",
       "      <td>0380711524</td>\n",
       "      <td>5</td>\n",
       "      <td>See Jane Run</td>\n",
       "      <td>Joy Fielding</td>\n",
       "      <td>1992</td>\n",
       "      <td>Avon</td>\n",
       "    </tr>\n",
       "    <tr>\n",
       "      <th>8</th>\n",
       "      <td>7158</td>\n",
       "      <td>0380711524</td>\n",
       "      <td>0</td>\n",
       "      <td>See Jane Run</td>\n",
       "      <td>Joy Fielding</td>\n",
       "      <td>1992</td>\n",
       "      <td>Avon</td>\n",
       "    </tr>\n",
       "    <tr>\n",
       "      <th>9</th>\n",
       "      <td>44728</td>\n",
       "      <td>0380711524</td>\n",
       "      <td>0</td>\n",
       "      <td>See Jane Run</td>\n",
       "      <td>Joy Fielding</td>\n",
       "      <td>1992</td>\n",
       "      <td>Avon</td>\n",
       "    </tr>\n",
       "    <tr>\n",
       "      <th>10</th>\n",
       "      <td>59150</td>\n",
       "      <td>0380711524</td>\n",
       "      <td>0</td>\n",
       "      <td>See Jane Run</td>\n",
       "      <td>Joy Fielding</td>\n",
       "      <td>1992</td>\n",
       "      <td>Avon</td>\n",
       "    </tr>\n",
       "    <tr>\n",
       "      <th>11</th>\n",
       "      <td>82831</td>\n",
       "      <td>0380711524</td>\n",
       "      <td>0</td>\n",
       "      <td>See Jane Run</td>\n",
       "      <td>Joy Fielding</td>\n",
       "      <td>1992</td>\n",
       "      <td>Avon</td>\n",
       "    </tr>\n",
       "  </tbody>\n",
       "</table>\n",
       "</div>"
      ],
      "text/plain": [
       "    User-ID        ISBN  Book-Rating    Book-Title   Book-Author  \\\n",
       "7    276762  0380711524            5  See Jane Run  Joy Fielding   \n",
       "8      7158  0380711524            0  See Jane Run  Joy Fielding   \n",
       "9     44728  0380711524            0  See Jane Run  Joy Fielding   \n",
       "10    59150  0380711524            0  See Jane Run  Joy Fielding   \n",
       "11    82831  0380711524            0  See Jane Run  Joy Fielding   \n",
       "\n",
       "   Year-Of-Publication Publisher  \n",
       "7                 1992      Avon  \n",
       "8                 1992      Avon  \n",
       "9                 1992      Avon  \n",
       "10                1992      Avon  \n",
       "11                1992      Avon  "
      ]
     },
     "execution_count": 49,
     "metadata": {},
     "output_type": "execute_result"
    }
   ],
   "source": [
    "relevant_rating_with_books_df.head()\n",
    "final_df = relevant_rating_with_books_df[ relevant_rating_with_books_df[ \"ISBN\" ].isin( relevant_book_absolute_ratings_s.index ) ]\n",
    "\n",
    "pd.options.mode.chained_assignment = None  # default='warn'\n",
    "final_df.drop_duplicates( [ \"ISBN\", \"User-ID\" ], inplace=True )\n",
    "\n",
    "final_df.head()"
   ]
  },
  {
   "cell_type": "code",
   "execution_count": 50,
   "metadata": {},
   "outputs": [
    {
     "data": {
      "text/plain": [
       "Index([''Salem's Lot', '10 Lb. Penalty', '16 Lighthouse Road', '1984',\n",
       "       '1st to Die: A Novel', '2010: Odyssey Two', '204 Rosewood Lane',\n",
       "       '2061: Odyssey Three', '24 Hours', '2nd Chance',\n",
       "       ...\n",
       "       'You Belong to Me',\n",
       "       'You Belong to Me and Other True Cases (Ann Rule's Crime Files: Vol. 2)',\n",
       "       'You Just Don't Understand', 'You Shall Know Our Velocity', 'Yukon Ho!',\n",
       "       'Zen and the Art of Motorcycle Maintenance: An Inquiry into Values',\n",
       "       'Zoya', '\\O\\\" Is for Outlaw\"', 'e', 'stardust'],\n",
       "      dtype='object', name='Book-Title', length=2676)"
      ]
     },
     "execution_count": 50,
     "metadata": {},
     "output_type": "execute_result"
    }
   ],
   "source": [
    "model_df = final_df.pivot_table( columns=\"User-ID\", index=\"Book-Title\", values=\"Book-Rating\" )\n",
    "model_df.fillna( 0, inplace=True )\n",
    "model_df.head()\n",
    "model_df.index"
   ]
  },
  {
   "cell_type": "markdown",
   "metadata": {},
   "source": [
    "Now, we have dataframe which we can feed to our model. First idea I came up with was to use KNN, and I did not think of anything better since, as I am trying to build rather MVP rather than full blown recommendation engine "
   ]
  },
  {
   "cell_type": "code",
   "execution_count": 65,
   "metadata": {},
   "outputs": [],
   "source": [
    "def print_suggestions( title: str, model ):\n",
    "    # df.loc[df['column_name'] == some_value]\n",
    "    row = model_df.iloc[ model_df.index == title ]\n",
    "    if row.shape[ 0 ] == 0:\n",
    "        print( f\"Sorry, we do not have title '{ title }' in our database\" )\n",
    "        return\n",
    "    \n",
    "    _, suggestions = model.kneighbors( row.values.reshape(1, -1) )\n",
    "    for suggestion in suggestions[ 0 ]:\n",
    "        print( model_df.index[ suggestion ] )\n",
    "    "
   ]
  },
  {
   "cell_type": "code",
   "execution_count": 66,
   "metadata": {},
   "outputs": [
    {
     "data": {
      "text/plain": [
       "NearestNeighbors(algorithm='brute')"
      ]
     },
     "execution_count": 66,
     "metadata": {},
     "output_type": "execute_result"
    }
   ],
   "source": [
    "from sklearn.neighbors import NearestNeighbors\n",
    "\n",
    "model = NearestNeighbors( algorithm=\"brute\" )\n",
    "model.fit( model_df )"
   ]
  },
  {
   "cell_type": "code",
   "execution_count": 67,
   "metadata": {},
   "outputs": [
    {
     "name": "stdout",
     "output_type": "stream",
     "text": [
      "1984\n",
      "Almost Paradise\n",
      "Women in His Life\n",
      "Passion's Promise\n",
      "The Great Train Robbery\n",
      "\n",
      "Sorry, we do not have title 'How to build a book recommendation engine' in our database\n"
     ]
    }
   ],
   "source": [
    "print_suggestions( \"1984\", model )\n",
    "\n",
    "print()\n",
    "\n",
    "print_suggestions( \"How to build a book recommendation engine\", model )"
   ]
  },
  {
   "cell_type": "markdown",
   "metadata": {},
   "source": [
    "Seems everything works fine, but lets further examine the `model_df` dataframe"
   ]
  },
  {
   "cell_type": "code",
   "execution_count": 68,
   "metadata": {},
   "outputs": [
    {
     "name": "stdout",
     "output_type": "stream",
     "text": [
      "CPU times: user 13 s, sys: 200 ms, total: 13.2 s\n",
      "Wall time: 13.4 s\n"
     ]
    },
    {
     "data": {
      "text/html": [
       "<div>\n",
       "<style scoped>\n",
       "    .dataframe tbody tr th:only-of-type {\n",
       "        vertical-align: middle;\n",
       "    }\n",
       "\n",
       "    .dataframe tbody tr th {\n",
       "        vertical-align: top;\n",
       "    }\n",
       "\n",
       "    .dataframe thead th {\n",
       "        text-align: right;\n",
       "    }\n",
       "</style>\n",
       "<table border=\"1\" class=\"dataframe\">\n",
       "  <thead>\n",
       "    <tr style=\"text-align: right;\">\n",
       "      <th>User-ID</th>\n",
       "      <th>242</th>\n",
       "      <th>243</th>\n",
       "      <th>254</th>\n",
       "      <th>383</th>\n",
       "      <th>388</th>\n",
       "      <th>408</th>\n",
       "      <th>446</th>\n",
       "      <th>487</th>\n",
       "      <th>503</th>\n",
       "      <th>507</th>\n",
       "      <th>...</th>\n",
       "      <th>278194</th>\n",
       "      <th>278202</th>\n",
       "      <th>278221</th>\n",
       "      <th>278356</th>\n",
       "      <th>278535</th>\n",
       "      <th>278563</th>\n",
       "      <th>278582</th>\n",
       "      <th>278633</th>\n",
       "      <th>278843</th>\n",
       "      <th>278851</th>\n",
       "    </tr>\n",
       "  </thead>\n",
       "  <tbody>\n",
       "    <tr>\n",
       "      <th>count</th>\n",
       "      <td>2676.000000</td>\n",
       "      <td>2676.000000</td>\n",
       "      <td>2676.000000</td>\n",
       "      <td>2676.000000</td>\n",
       "      <td>2676.000000</td>\n",
       "      <td>2676.0</td>\n",
       "      <td>2676.000000</td>\n",
       "      <td>2676.000000</td>\n",
       "      <td>2676.000000</td>\n",
       "      <td>2676.000000</td>\n",
       "      <td>...</td>\n",
       "      <td>2676.000000</td>\n",
       "      <td>2676.000000</td>\n",
       "      <td>2676.000000</td>\n",
       "      <td>2676.000000</td>\n",
       "      <td>2676.000000</td>\n",
       "      <td>2676.0</td>\n",
       "      <td>2676.000000</td>\n",
       "      <td>2676.000000</td>\n",
       "      <td>2676.000000</td>\n",
       "      <td>2676.000000</td>\n",
       "    </tr>\n",
       "    <tr>\n",
       "      <th>mean</th>\n",
       "      <td>0.003737</td>\n",
       "      <td>0.040732</td>\n",
       "      <td>0.053812</td>\n",
       "      <td>0.005605</td>\n",
       "      <td>0.017190</td>\n",
       "      <td>0.0</td>\n",
       "      <td>0.004111</td>\n",
       "      <td>0.007474</td>\n",
       "      <td>0.014948</td>\n",
       "      <td>0.028401</td>\n",
       "      <td>...</td>\n",
       "      <td>0.034753</td>\n",
       "      <td>0.013453</td>\n",
       "      <td>0.017937</td>\n",
       "      <td>0.023169</td>\n",
       "      <td>0.032138</td>\n",
       "      <td>0.0</td>\n",
       "      <td>0.037369</td>\n",
       "      <td>0.062033</td>\n",
       "      <td>0.033632</td>\n",
       "      <td>0.002990</td>\n",
       "    </tr>\n",
       "    <tr>\n",
       "      <th>std</th>\n",
       "      <td>0.193311</td>\n",
       "      <td>0.572439</td>\n",
       "      <td>0.676509</td>\n",
       "      <td>0.216096</td>\n",
       "      <td>0.351876</td>\n",
       "      <td>0.0</td>\n",
       "      <td>0.165145</td>\n",
       "      <td>0.223691</td>\n",
       "      <td>0.386405</td>\n",
       "      <td>0.467981</td>\n",
       "      <td>...</td>\n",
       "      <td>0.493611</td>\n",
       "      <td>0.316237</td>\n",
       "      <td>0.380427</td>\n",
       "      <td>0.456137</td>\n",
       "      <td>0.530645</td>\n",
       "      <td>0.0</td>\n",
       "      <td>0.553751</td>\n",
       "      <td>0.701854</td>\n",
       "      <td>0.525596</td>\n",
       "      <td>0.154649</td>\n",
       "    </tr>\n",
       "    <tr>\n",
       "      <th>min</th>\n",
       "      <td>0.000000</td>\n",
       "      <td>0.000000</td>\n",
       "      <td>0.000000</td>\n",
       "      <td>0.000000</td>\n",
       "      <td>0.000000</td>\n",
       "      <td>0.0</td>\n",
       "      <td>0.000000</td>\n",
       "      <td>0.000000</td>\n",
       "      <td>0.000000</td>\n",
       "      <td>0.000000</td>\n",
       "      <td>...</td>\n",
       "      <td>0.000000</td>\n",
       "      <td>0.000000</td>\n",
       "      <td>0.000000</td>\n",
       "      <td>0.000000</td>\n",
       "      <td>0.000000</td>\n",
       "      <td>0.0</td>\n",
       "      <td>0.000000</td>\n",
       "      <td>0.000000</td>\n",
       "      <td>0.000000</td>\n",
       "      <td>0.000000</td>\n",
       "    </tr>\n",
       "    <tr>\n",
       "      <th>25%</th>\n",
       "      <td>0.000000</td>\n",
       "      <td>0.000000</td>\n",
       "      <td>0.000000</td>\n",
       "      <td>0.000000</td>\n",
       "      <td>0.000000</td>\n",
       "      <td>0.0</td>\n",
       "      <td>0.000000</td>\n",
       "      <td>0.000000</td>\n",
       "      <td>0.000000</td>\n",
       "      <td>0.000000</td>\n",
       "      <td>...</td>\n",
       "      <td>0.000000</td>\n",
       "      <td>0.000000</td>\n",
       "      <td>0.000000</td>\n",
       "      <td>0.000000</td>\n",
       "      <td>0.000000</td>\n",
       "      <td>0.0</td>\n",
       "      <td>0.000000</td>\n",
       "      <td>0.000000</td>\n",
       "      <td>0.000000</td>\n",
       "      <td>0.000000</td>\n",
       "    </tr>\n",
       "    <tr>\n",
       "      <th>50%</th>\n",
       "      <td>0.000000</td>\n",
       "      <td>0.000000</td>\n",
       "      <td>0.000000</td>\n",
       "      <td>0.000000</td>\n",
       "      <td>0.000000</td>\n",
       "      <td>0.0</td>\n",
       "      <td>0.000000</td>\n",
       "      <td>0.000000</td>\n",
       "      <td>0.000000</td>\n",
       "      <td>0.000000</td>\n",
       "      <td>...</td>\n",
       "      <td>0.000000</td>\n",
       "      <td>0.000000</td>\n",
       "      <td>0.000000</td>\n",
       "      <td>0.000000</td>\n",
       "      <td>0.000000</td>\n",
       "      <td>0.0</td>\n",
       "      <td>0.000000</td>\n",
       "      <td>0.000000</td>\n",
       "      <td>0.000000</td>\n",
       "      <td>0.000000</td>\n",
       "    </tr>\n",
       "    <tr>\n",
       "      <th>75%</th>\n",
       "      <td>0.000000</td>\n",
       "      <td>0.000000</td>\n",
       "      <td>0.000000</td>\n",
       "      <td>0.000000</td>\n",
       "      <td>0.000000</td>\n",
       "      <td>0.0</td>\n",
       "      <td>0.000000</td>\n",
       "      <td>0.000000</td>\n",
       "      <td>0.000000</td>\n",
       "      <td>0.000000</td>\n",
       "      <td>...</td>\n",
       "      <td>0.000000</td>\n",
       "      <td>0.000000</td>\n",
       "      <td>0.000000</td>\n",
       "      <td>0.000000</td>\n",
       "      <td>0.000000</td>\n",
       "      <td>0.0</td>\n",
       "      <td>0.000000</td>\n",
       "      <td>0.000000</td>\n",
       "      <td>0.000000</td>\n",
       "      <td>0.000000</td>\n",
       "    </tr>\n",
       "    <tr>\n",
       "      <th>max</th>\n",
       "      <td>10.000000</td>\n",
       "      <td>10.000000</td>\n",
       "      <td>10.000000</td>\n",
       "      <td>10.000000</td>\n",
       "      <td>10.000000</td>\n",
       "      <td>0.0</td>\n",
       "      <td>8.000000</td>\n",
       "      <td>7.000000</td>\n",
       "      <td>10.000000</td>\n",
       "      <td>10.000000</td>\n",
       "      <td>...</td>\n",
       "      <td>9.000000</td>\n",
       "      <td>10.000000</td>\n",
       "      <td>9.000000</td>\n",
       "      <td>10.000000</td>\n",
       "      <td>10.000000</td>\n",
       "      <td>0.0</td>\n",
       "      <td>10.000000</td>\n",
       "      <td>10.000000</td>\n",
       "      <td>9.000000</td>\n",
       "      <td>8.000000</td>\n",
       "    </tr>\n",
       "  </tbody>\n",
       "</table>\n",
       "<p>8 rows × 6584 columns</p>\n",
       "</div>"
      ],
      "text/plain": [
       "User-ID       242          243          254          383          388     \\\n",
       "count    2676.000000  2676.000000  2676.000000  2676.000000  2676.000000   \n",
       "mean        0.003737     0.040732     0.053812     0.005605     0.017190   \n",
       "std         0.193311     0.572439     0.676509     0.216096     0.351876   \n",
       "min         0.000000     0.000000     0.000000     0.000000     0.000000   \n",
       "25%         0.000000     0.000000     0.000000     0.000000     0.000000   \n",
       "50%         0.000000     0.000000     0.000000     0.000000     0.000000   \n",
       "75%         0.000000     0.000000     0.000000     0.000000     0.000000   \n",
       "max        10.000000    10.000000    10.000000    10.000000    10.000000   \n",
       "\n",
       "User-ID  408          446          487          503          507     ...  \\\n",
       "count    2676.0  2676.000000  2676.000000  2676.000000  2676.000000  ...   \n",
       "mean        0.0     0.004111     0.007474     0.014948     0.028401  ...   \n",
       "std         0.0     0.165145     0.223691     0.386405     0.467981  ...   \n",
       "min         0.0     0.000000     0.000000     0.000000     0.000000  ...   \n",
       "25%         0.0     0.000000     0.000000     0.000000     0.000000  ...   \n",
       "50%         0.0     0.000000     0.000000     0.000000     0.000000  ...   \n",
       "75%         0.0     0.000000     0.000000     0.000000     0.000000  ...   \n",
       "max         0.0     8.000000     7.000000    10.000000    10.000000  ...   \n",
       "\n",
       "User-ID       278194       278202       278221       278356       278535  \\\n",
       "count    2676.000000  2676.000000  2676.000000  2676.000000  2676.000000   \n",
       "mean        0.034753     0.013453     0.017937     0.023169     0.032138   \n",
       "std         0.493611     0.316237     0.380427     0.456137     0.530645   \n",
       "min         0.000000     0.000000     0.000000     0.000000     0.000000   \n",
       "25%         0.000000     0.000000     0.000000     0.000000     0.000000   \n",
       "50%         0.000000     0.000000     0.000000     0.000000     0.000000   \n",
       "75%         0.000000     0.000000     0.000000     0.000000     0.000000   \n",
       "max         9.000000    10.000000     9.000000    10.000000    10.000000   \n",
       "\n",
       "User-ID  278563       278582       278633       278843       278851  \n",
       "count    2676.0  2676.000000  2676.000000  2676.000000  2676.000000  \n",
       "mean        0.0     0.037369     0.062033     0.033632     0.002990  \n",
       "std         0.0     0.553751     0.701854     0.525596     0.154649  \n",
       "min         0.0     0.000000     0.000000     0.000000     0.000000  \n",
       "25%         0.0     0.000000     0.000000     0.000000     0.000000  \n",
       "50%         0.0     0.000000     0.000000     0.000000     0.000000  \n",
       "75%         0.0     0.000000     0.000000     0.000000     0.000000  \n",
       "max         0.0    10.000000    10.000000     9.000000     8.000000  \n",
       "\n",
       "[8 rows x 6584 columns]"
      ]
     },
     "execution_count": 68,
     "metadata": {},
     "output_type": "execute_result"
    }
   ],
   "source": [
    "%time model_df.describe()"
   ]
  },
  {
   "cell_type": "markdown",
   "metadata": {},
   "source": [
    "Even simple describe takes considerable amount of time to be computed. And it is no surprise, as there is column for every user whose review we considered. Fortunately, module `scipy` privodes `csr_matrix` class for matrix compression"
   ]
  },
  {
   "cell_type": "code",
   "execution_count": 69,
   "metadata": {},
   "outputs": [],
   "source": [
    "from scipy.sparse import csr_matrix\n",
    "\n",
    "sparse_model_df = csr_matrix( model_df )"
   ]
  },
  {
   "cell_type": "code",
   "execution_count": 70,
   "metadata": {},
   "outputs": [
    {
     "data": {
      "text/plain": [
       "NearestNeighbors(algorithm='brute')"
      ]
     },
     "execution_count": 70,
     "metadata": {},
     "output_type": "execute_result"
    }
   ],
   "source": [
    "sparse_model = NearestNeighbors( algorithm=\"brute\" )\n",
    "sparse_model.fit( sparse_model_df )"
   ]
  },
  {
   "cell_type": "code",
   "execution_count": 71,
   "metadata": {},
   "outputs": [
    {
     "name": "stdout",
     "output_type": "stream",
     "text": [
      "1984\n",
      "Almost Paradise\n",
      "Women in His Life\n",
      "Passion's Promise\n",
      "The Great Train Robbery\n",
      "\n",
      "Sorry, we do not have title 'How to build a book recommendation engine' in our database\n"
     ]
    }
   ],
   "source": [
    "print_suggestions( \"1984\", sparse_model )\n",
    "\n",
    "print()\n",
    "\n",
    "print_suggestions( \"How to build a book recommendation engine\", sparse_model )"
   ]
  },
  {
   "cell_type": "markdown",
   "metadata": {},
   "source": [
    "# Future paths\n",
    "\n",
    "I found [this](https://towardsdatascience.com/building-a-content-based-book-recommendation-engine-9fd4d57a4da) article on simmilar problem. I like the approach the author used, scraping the content and doing some NLP is a great way to make more qualified decision when doing recommendations, as we do not need the user review and worry about the outliers\n",
    "\n",
    "Also at this stage, there is no evaluation of the model performance\n",
    "\n",
    "Even though I dropped the images at the beginning, it would be nice to display book covers alongside the book titles, as we as humans are very visual\n",
    "\n",
    "Currently, the model predicts something only if the two conditions are met - title is in the database and it is in the exact same format is it is sotred in the dataframe. One of the solutions is to match on ISBN (really inconvenient for the user) or to use some abstract layer, which computes for example hamming distance between possible matching titles or some other abstract layer over the dataframe itself.\n",
    "\n"
   ]
  },
  {
   "cell_type": "markdown",
   "metadata": {},
   "source": [
    "# Bonus excercise\n",
    "\n",
    "I spinned up a **very simple** web page to demonstrate the model, to run instance locally, please follow these steps:"
   ]
  },
  {
   "cell_type": "code",
   "execution_count": null,
   "metadata": {},
   "outputs": [],
   "source": []
  }
 ],
 "metadata": {
  "kernelspec": {
   "display_name": "Python 3",
   "language": "python",
   "name": "python3"
  },
  "language_info": {
   "codemirror_mode": {
    "name": "ipython",
    "version": 3
   },
   "file_extension": ".py",
   "mimetype": "text/x-python",
   "name": "python",
   "nbconvert_exporter": "python",
   "pygments_lexer": "ipython3",
   "version": "3.9.0"
  }
 },
 "nbformat": 4,
 "nbformat_minor": 4
}
