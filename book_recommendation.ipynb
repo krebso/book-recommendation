{
 "cells": [
  {
   "cell_type": "markdown",
   "metadata": {},
   "source": [
    "# Problem Introduction\n",
    "\n",
    "Our task is to build a model, which is suitable for recommending books based on user reviews from open BX dataset.\n",
    "So lets tackle this problem using `numpy`, `pandas` and `sklearn`"
   ]
  },
  {
   "cell_type": "code",
   "execution_count": 1,
   "metadata": {},
   "outputs": [],
   "source": [
    "import numpy as np\n",
    "import pandas as pd"
   ]
  },
  {
   "cell_type": "markdown",
   "metadata": {},
   "source": [
    "# Exploratory Data Analysis"
   ]
  },
  {
   "cell_type": "code",
   "execution_count": 2,
   "metadata": {},
   "outputs": [],
   "source": [
    "# input is encoded in latin-1 and there are come corrupted values\n",
    "# as there is not many of those values, I decided to just skip them\n",
    "books_df = pd.read_csv( \"data/BX-Books.csv\", encoding=\"latin-1\", sep=\";\", on_bad_lines=\"skip\", low_memory=False )\n",
    "book_ratings_df = pd.read_csv( \"data/BX-Book-Ratings.csv\", encoding=\"latin-1\", sep=\";\", on_bad_lines=\"skip\" )\n",
    "book_users_df = pd.read_csv( \"data/BX-Users.csv\", encoding=\"latin-1\", sep=\";\", on_bad_lines=\"skip\" )"
   ]
  },
  {
   "cell_type": "code",
   "execution_count": null,
   "metadata": {},
   "outputs": [],
   "source": []
  }
 ],
 "metadata": {
  "kernelspec": {
   "display_name": "Python 3",
   "language": "python",
   "name": "python3"
  },
  "language_info": {
   "codemirror_mode": {
    "name": "ipython",
    "version": 3
   },
   "file_extension": ".py",
   "mimetype": "text/x-python",
   "name": "python",
   "nbconvert_exporter": "python",
   "pygments_lexer": "ipython3",
   "version": "3.9.0"
  }
 },
 "nbformat": 4,
 "nbformat_minor": 4
}
